{
 "cells": [
  {
   "cell_type": "code",
   "execution_count": 1,
   "metadata": {},
   "outputs": [],
   "source": [
    "import json\n",
    "import os "
   ]
  },
  {
   "cell_type": "code",
   "execution_count": 2,
   "metadata": {},
   "outputs": [],
   "source": [
    "save_dict={}"
   ]
  },
  {
   "cell_type": "code",
   "execution_count": 3,
   "metadata": {},
   "outputs": [],
   "source": [
    "save_dict['cornell']={\"dataset\":\"cornell-n183-h0.3-c5-unmodified-0.48p__0.2p\",\"val_size\":59,\"dataset_path\":[]}\n",
    "# save_dict['chameleon']={\"dataset\":\"chameleon-n2277-h0.23-c5-unmodified-0.48p__0.2p\",\"val_size\":729,\"dataset_path\":[]}\n",
    "save_dict['cora']={\"dataset\":\"ind.cora-unmodified-0.48p__0.2p\",\"val_size\":1019,\"dataset_path\":[]}\n",
    "save_dict['pubmed']={\"dataset\":\"ind.pubmed-unmodified-0.48p__0.2p\",\"val_size\":6310,\"dataset_path\":[]}\n",
    "save_dict['citeseer']={\"dataset\":\"ind.citeseer-unmodified-0.48p__0.2p\",\"val_size\":1879,\"dataset_path\":[]}\n",
    "# save_dict['film']={\"dataset\":\"film-n7600-h0.22-c5-unmodified-0.48p__0.2p\",\"val_size\":3648,\"dataset_path\":[]}\n",
    "# save_dict['squirrel']={\"dataset\":\"squirrel-n5201-h0.22-c5-unmodified-0.48p__0.2p\",\"val_size\":1664,\"dataset_path\":[]}\n",
    "# save_dict['texas']={\"dataset\":\"texas-n183-h0.11-c5-unmodified-0.48p__0.2p\",\"val_size\":59,\"dataset_path\":[]}\n",
    "# save_dict['wisconsin']={\"dataset\":\"wisconsin-n251-h0.21-c5-unmodified-0.48p__0.2p\",\"val_size\":80,\"dataset_path\":[]}"
   ]
  },
  {
   "cell_type": "code",
   "execution_count": 4,
   "metadata": {},
   "outputs": [
    {
     "data": {
      "text/plain": [
       "{'cornell': {'dataset': 'cornell-n183-h0.3-c5-unmodified-0.48p__0.2p',\n",
       "  'val_size': 59,\n",
       "  'dataset_path': []},\n",
       " 'cora': {'dataset': 'ind.cora-unmodified-0.48p__0.2p',\n",
       "  'val_size': 1019,\n",
       "  'dataset_path': []},\n",
       " 'pubmed': {'dataset': 'ind.pubmed-unmodified-0.48p__0.2p',\n",
       "  'val_size': 6310,\n",
       "  'dataset_path': []},\n",
       " 'citeseer': {'dataset': 'ind.citeseer-unmodified-0.48p__0.2p',\n",
       "  'val_size': 1879,\n",
       "  'dataset_path': []}}"
      ]
     },
     "execution_count": 4,
     "metadata": {},
     "output_type": "execute_result"
    }
   ],
   "source": [
    "save_dict"
   ]
  },
  {
   "cell_type": "code",
   "execution_count": 5,
   "metadata": {},
   "outputs": [],
   "source": [
    "def get_split_path(path,root):\n",
    "    fin_path=os.path.join(root,path)\n",
    "    fin_path=os.path.join(fin_path,\"features\")\n",
    "    temp=os.listdir(fin_path)\n",
    "    fin_path=os.path.join(fin_path,temp[0])\n",
    "    fin_path=os.path.join(fin_path,\"splits\")\n",
    "    temp=os.listdir(fin_path)\n",
    "    dataset_path=[]\n",
    "    for i,v in enumerate(temp):\n",
    "        dataset_path.append(str(os.path.join(fin_path,v)))\n",
    "    return dataset_path"
   ]
  },
  {
   "cell_type": "code",
   "execution_count": null,
   "metadata": {},
   "outputs": [],
   "source": [
    "root=\"./splits/\"\n",
    "save_dict[\"cornell\"][\"dataset_path\"]=get_split_path(\"d1d5bdd41805e6a6eb0fdf335ebbfb7e\",root)\n",
    "# save_dict[\"chameleon\"][\"dataset_path\"]=get_split_path(\"35295195aeb1b2db27b41a523783342d\",root)\n",
    "save_dict[\"cora\"][\"dataset_path\"]=get_split_path(\"4c95f334af46cefe80977d9c96123445\",root)\n",
    "save_dict[\"pubmed\"][\"dataset_path\"]=get_split_path(\"610456c7ae4623e1ea292096b375bf73\",root)\n",
    "save_dict[\"citeseer\"][\"dataset_path\"]=get_split_path(\"83dd60de1db27849a16bbe3ee6f6b8e5\",root)\n",
    "# save_dict[\"film\"][\"dataset_path\"]=get_split_path(\"91e4ccb73018cb9f702f55b6ef242de9\",root)\n",
    "# save_dict[\"squirrel\"][\"dataset_path\"]=get_split_path(\"e3cfd53cd8ba567b484b8d53312cd849\",root)\n",
    "# save_dict[\"texas\"][\"dataset_path\"]=get_split_path(\"e5f14edcb4fab9ff0f8d6820dc89cd78\",root)\n",
    "# save_dict[\"wisconsin\"][\"dataset_path\"]=get_split_path(\"f54ddc32338ab0eac9511aaa355b666a\",root)"
   ]
  },
  {
   "cell_type": "code",
   "execution_count": null,
   "metadata": {},
   "outputs": [],
   "source": [
    "save_dict"
   ]
  },
  {
   "cell_type": "code",
   "execution_count": 46,
   "metadata": {},
   "outputs": [],
   "source": [
    "with open(\"./dataset.json\",\"w\") as f:\n",
    "    json.dump(save_dict,f)"
   ]
  },
  {
   "cell_type": "code",
   "execution_count": null,
   "metadata": {},
   "outputs": [],
   "source": []
  }
 ],
 "metadata": {
  "kernelspec": {
   "display_name": "Python 3",
   "language": "python",
   "name": "python3"
  },
  "language_info": {
   "codemirror_mode": {
    "name": "ipython",
    "version": 3
   },
   "file_extension": ".py",
   "mimetype": "text/x-python",
   "name": "python",
   "nbconvert_exporter": "python",
   "pygments_lexer": "ipython3",
   "version": "3.8.8"
  }
 },
 "nbformat": 4,
 "nbformat_minor": 5
}
